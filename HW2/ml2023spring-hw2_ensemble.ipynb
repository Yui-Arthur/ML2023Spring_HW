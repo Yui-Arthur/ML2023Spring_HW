{
 "cells": [
  {
   "cell_type": "markdown",
   "id": "dc2727f6",
   "metadata": {
    "id": "OYlaRwNu7ojq",
    "papermill": {
     "duration": 0.006285,
     "end_time": "2023-03-17T04:29:30.107355",
     "exception": false,
     "start_time": "2023-03-17T04:29:30.101070",
     "status": "completed"
    },
    "tags": []
   },
   "source": [
    "# **Homework 2: Phoneme Classification**\n"
   ]
  },
  {
   "cell_type": "markdown",
   "id": "8965d500",
   "metadata": {
    "id": "A7DRC5V7_8A5",
    "papermill": {
     "duration": 0.00485,
     "end_time": "2023-03-17T04:29:30.117286",
     "exception": false,
     "start_time": "2023-03-17T04:29:30.112436",
     "status": "completed"
    },
    "tags": []
   },
   "source": [
    "Objectives:\n",
    "* Solve a classification problem with deep neural networks (DNNs).\n",
    "* Understand recursive neural networks (RNNs).\n",
    "\n",
    "If you have any questions, please contact the TAs via TA hours, NTU COOL, or email to mlta-2023-spring@googlegroups.com"
   ]
  },
  {
   "cell_type": "markdown",
   "id": "d91b65ed",
   "metadata": {
    "id": "pADUiYODJE1O",
    "papermill": {
     "duration": 0.00476,
     "end_time": "2023-03-17T04:29:30.126789",
     "exception": false,
     "start_time": "2023-03-17T04:29:30.122029",
     "status": "completed"
    },
    "tags": []
   },
   "source": [
    "# Some Utility Functions\n",
    "**Fixes random number generator seeds for reproducibility.**"
   ]
  },
  {
   "cell_type": "code",
   "execution_count": null,
   "id": "deaf2427",
   "metadata": {
    "execution": {
     "iopub.execute_input": "2023-03-17T04:29:30.139153Z",
     "iopub.status.busy": "2023-03-17T04:29:30.138284Z",
     "iopub.status.idle": "2023-03-17T04:29:41.067396Z",
     "shell.execute_reply": "2023-03-17T04:29:41.066122Z"
    },
    "papermill": {
     "duration": 10.938443,
     "end_time": "2023-03-17T04:29:41.070135",
     "exception": false,
     "start_time": "2023-03-17T04:29:30.131692",
     "status": "completed"
    },
    "tags": []
   },
   "outputs": [],
   "source": [
    "!pip install torchensemble"
   ]
  },
  {
   "cell_type": "code",
   "execution_count": null,
   "id": "9cb655ed",
   "metadata": {
    "execution": {
     "iopub.execute_input": "2023-03-17T04:29:41.083100Z",
     "iopub.status.busy": "2023-03-17T04:29:41.082748Z",
     "iopub.status.idle": "2023-03-17T04:29:42.903189Z",
     "shell.execute_reply": "2023-03-17T04:29:42.902190Z"
    },
    "id": "BsZKgBZQJjaE",
    "papermill": {
     "duration": 1.829532,
     "end_time": "2023-03-17T04:29:42.905617",
     "exception": false,
     "start_time": "2023-03-17T04:29:41.076085",
     "status": "completed"
    },
    "tags": []
   },
   "outputs": [],
   "source": [
    "import numpy as np\n",
    "import torch\n",
    "import random\n",
    "\n",
    "def same_seeds(seed):\n",
    "    random.seed(seed) \n",
    "    np.random.seed(seed)  \n",
    "    torch.manual_seed(seed)\n",
    "    if torch.cuda.is_available():\n",
    "        torch.cuda.manual_seed(seed)\n",
    "        torch.cuda.manual_seed_all(seed) \n",
    "    torch.backends.cudnn.benchmark = False\n",
    "    torch.backends.cudnn.deterministic = True"
   ]
  },
  {
   "cell_type": "markdown",
   "id": "3ff1df93",
   "metadata": {
    "id": "_L_4anls8Drv",
    "papermill": {
     "duration": 0.005181,
     "end_time": "2023-03-17T04:29:42.916459",
     "exception": false,
     "start_time": "2023-03-17T04:29:42.911278",
     "status": "completed"
    },
    "tags": []
   },
   "source": [
    "**Helper functions to pre-process the training data from raw MFCC features of each utterance.**\n",
    "\n",
    "A phoneme may span several frames and is dependent to past and future frames. \\\n",
    "Hence we concatenate neighboring phonemes for training to achieve higher accuracy. The **concat_feat** function concatenates past and future k frames (total 2k+1 = n frames), and we predict the center frame.\n",
    "\n",
    "Feel free to modify the data preprocess functions, but **do not drop any frame** (if you modify the functions, remember to check that the number of frames are the same as mentioned in the slides)"
   ]
  },
  {
   "cell_type": "code",
   "execution_count": null,
   "id": "81f53694",
   "metadata": {
    "execution": {
     "iopub.execute_input": "2023-03-17T04:29:42.928827Z",
     "iopub.status.busy": "2023-03-17T04:29:42.928302Z",
     "iopub.status.idle": "2023-03-17T04:29:42.945810Z",
     "shell.execute_reply": "2023-03-17T04:29:42.944976Z"
    },
    "id": "IJjLT8em-y9G",
    "papermill": {
     "duration": 0.026223,
     "end_time": "2023-03-17T04:29:42.947992",
     "exception": false,
     "start_time": "2023-03-17T04:29:42.921769",
     "status": "completed"
    },
    "tags": []
   },
   "outputs": [],
   "source": [
    "import os\n",
    "import torch\n",
    "from tqdm import tqdm\n",
    "\n",
    "def load_feat(path):\n",
    "    feat = torch.load(path)\n",
    "    return feat\n",
    "\n",
    "def shift(x, n):\n",
    "    if n < 0:\n",
    "        left = x[0].repeat(-n, 1)\n",
    "        right = x[:n]\n",
    "    elif n > 0:\n",
    "        right = x[-1].repeat(n, 1)\n",
    "        left = x[n:]\n",
    "    else:\n",
    "        return x\n",
    "\n",
    "    return torch.cat((left, right), dim=0)\n",
    "\n",
    "def concat_feat(x, concat_n):\n",
    "    assert concat_n % 2 == 1 # n must be odd\n",
    "    if concat_n < 2:\n",
    "        return x\n",
    "    seq_len, feature_dim = x.size(0), x.size(1)\n",
    "    x = x.repeat(1, concat_n) \n",
    "    x = x.view(seq_len, concat_n, feature_dim).permute(1, 0, 2) # concat_n, seq_len, feature_dim\n",
    "    mid = (concat_n // 2)\n",
    "    for r_idx in range(1, mid+1):\n",
    "        x[mid + r_idx, :] = shift(x[mid + r_idx], r_idx)\n",
    "        x[mid - r_idx, :] = shift(x[mid - r_idx], -r_idx)\n",
    "\n",
    "    return x.permute(1, 0, 2).view(seq_len, concat_n * feature_dim)\n",
    "\n",
    "def preprocess_data(split, feat_dir, phone_path, concat_nframes, train_ratio=0.8):\n",
    "    class_num = 41 # NOTE: pre-computed, should not need change\n",
    "\n",
    "    if split == 'train' or split == 'val':\n",
    "        mode = 'train'\n",
    "    elif split == 'test':\n",
    "        mode = 'test'\n",
    "    else:\n",
    "        raise ValueError('Invalid \\'split\\' argument for dataset: PhoneDataset!')\n",
    "\n",
    "    label_dict = {}\n",
    "    if mode == 'train':\n",
    "        for line in open(os.path.join(phone_path, f'{mode}_labels.txt')).readlines():\n",
    "            line = line.strip('\\n').split(' ')\n",
    "            label_dict[line[0]] = [int(p) for p in line[1:]]\n",
    "        \n",
    "        # split training and validation data\n",
    "        usage_list = open(os.path.join(phone_path, 'train_split.txt')).readlines()\n",
    "        random.shuffle(usage_list)\n",
    "        train_len = int(len(usage_list) * train_ratio)\n",
    "        usage_list = usage_list[:train_len] if split == 'train' else usage_list[train_len:]\n",
    "\n",
    "    elif mode == 'test':\n",
    "        usage_list = open(os.path.join(phone_path, 'test_split.txt')).readlines()\n",
    "\n",
    "    usage_list = [line.strip('\\n') for line in usage_list]\n",
    "    print('[Dataset] - # phone classes: ' + str(class_num) + ', number of utterances for ' + split + ': ' + str(len(usage_list)))\n",
    "\n",
    "    max_len = 3000000\n",
    "    X = torch.empty(max_len, 39 * concat_nframes)\n",
    "    if mode == 'train':\n",
    "        y = torch.empty(max_len, dtype=torch.long)\n",
    "\n",
    "    idx = 0\n",
    "    for i, fname in tqdm(enumerate(usage_list)):\n",
    "        feat = load_feat(os.path.join(feat_dir, mode, f'{fname}.pt'))\n",
    "        cur_len = len(feat)\n",
    "        feat = concat_feat(feat, concat_nframes)\n",
    "        if mode == 'train':\n",
    "          label = torch.LongTensor(label_dict[fname])\n",
    "\n",
    "        X[idx: idx + cur_len, :] = feat\n",
    "        if mode == 'train':\n",
    "          y[idx: idx + cur_len] = label\n",
    "\n",
    "        idx += cur_len\n",
    "\n",
    "    X = X[:idx, :]\n",
    "    if mode == 'train':\n",
    "      y = y[:idx]\n",
    "\n",
    "    print(f'[INFO] {split} set')\n",
    "    print(X.shape)\n",
    "    if mode == 'train':\n",
    "      print(y.shape)\n",
    "      return X, y\n",
    "    else:\n",
    "      return X\n"
   ]
  },
  {
   "cell_type": "markdown",
   "id": "1c5aa448",
   "metadata": {
    "id": "us5XW_x6udZQ",
    "papermill": {
     "duration": 0.005117,
     "end_time": "2023-03-17T04:29:42.958251",
     "exception": false,
     "start_time": "2023-03-17T04:29:42.953134",
     "status": "completed"
    },
    "tags": []
   },
   "source": [
    "# Dataset"
   ]
  },
  {
   "cell_type": "code",
   "execution_count": null,
   "id": "fb52f5c8",
   "metadata": {
    "execution": {
     "iopub.execute_input": "2023-03-17T04:29:42.970135Z",
     "iopub.status.busy": "2023-03-17T04:29:42.969564Z",
     "iopub.status.idle": "2023-03-17T04:29:42.976940Z",
     "shell.execute_reply": "2023-03-17T04:29:42.975908Z"
    },
    "id": "Fjf5EcmJtf4e",
    "papermill": {
     "duration": 0.015629,
     "end_time": "2023-03-17T04:29:42.978984",
     "exception": false,
     "start_time": "2023-03-17T04:29:42.963355",
     "status": "completed"
    },
    "tags": []
   },
   "outputs": [],
   "source": [
    "import torch\n",
    "from torch.utils.data import Dataset\n",
    "\n",
    "class LibriDataset(Dataset):\n",
    "    def __init__(self, X, y=None):\n",
    "        self.data = X\n",
    "        if y is not None:\n",
    "            self.label = torch.LongTensor(y)\n",
    "        else:\n",
    "            self.label = None\n",
    "\n",
    "    def __getitem__(self, idx):\n",
    "        if self.label is not None:\n",
    "            return self.data[idx], self.label[idx]\n",
    "        else:\n",
    "            return self.data[idx]\n",
    "\n",
    "    def __len__(self):\n",
    "        return len(self.data)\n"
   ]
  },
  {
   "cell_type": "markdown",
   "id": "106b7f5d",
   "metadata": {
    "id": "IRqKNvNZwe3V",
    "papermill": {
     "duration": 0.005035,
     "end_time": "2023-03-17T04:29:42.989107",
     "exception": false,
     "start_time": "2023-03-17T04:29:42.984072",
     "status": "completed"
    },
    "tags": []
   },
   "source": [
    "# Model\n",
    "Feel free to modify the structure of the model."
   ]
  },
  {
   "cell_type": "code",
   "execution_count": null,
   "id": "d35f0513",
   "metadata": {
    "execution": {
     "iopub.execute_input": "2023-03-17T04:29:43.001075Z",
     "iopub.status.busy": "2023-03-17T04:29:43.000261Z",
     "iopub.status.idle": "2023-03-17T04:29:43.008556Z",
     "shell.execute_reply": "2023-03-17T04:29:43.007698Z"
    },
    "id": "Bg-GRd7ywdrL",
    "papermill": {
     "duration": 0.016431,
     "end_time": "2023-03-17T04:29:43.010665",
     "exception": false,
     "start_time": "2023-03-17T04:29:42.994234",
     "status": "completed"
    },
    "tags": []
   },
   "outputs": [],
   "source": [
    "import torch.nn as nn\n",
    "\n",
    "class BasicBlock(nn.Module):\n",
    "    def __init__(self, input_dim, output_dim):\n",
    "        super(BasicBlock, self).__init__()\n",
    "\n",
    "        self.block = nn.Sequential(\n",
    "            nn.Dropout(0.15),\n",
    "            nn.Linear(input_dim, output_dim),\n",
    "            nn.BatchNorm1d(output_dim),\n",
    "            nn.ReLU(),\n",
    "        )\n",
    "\n",
    "    def forward(self, x):\n",
    "        x = self.block(x)\n",
    "        return x\n",
    "\n",
    "\n",
    "class Classifier(nn.Module):\n",
    "    def __init__(self, input_dim, output_dim=41, hidden_layers=1, hidden_dim=256):\n",
    "        super(Classifier, self).__init__()\n",
    "\n",
    "        self.fc = nn.Sequential(\n",
    "            BasicBlock(input_dim, hidden_dim),\n",
    "            *[BasicBlock(hidden_dim, hidden_dim) for _ in range(hidden_layers)],\n",
    "            nn.Linear(hidden_dim, output_dim)\n",
    "            \n",
    "            \n",
    "        )\n",
    "\n",
    "    def forward(self, x):\n",
    "        x = self.fc(x)\n",
    "#         x = nn.functional.softmax(x, dim=1)\n",
    "        return x"
   ]
  },
  {
   "cell_type": "markdown",
   "id": "9eb41954",
   "metadata": {
    "id": "TlIq8JeqvvHC",
    "papermill": {
     "duration": 0.005049,
     "end_time": "2023-03-17T04:29:43.020824",
     "exception": false,
     "start_time": "2023-03-17T04:29:43.015775",
     "status": "completed"
    },
    "tags": []
   },
   "source": [
    "# Hyper-parameters"
   ]
  },
  {
   "cell_type": "code",
   "execution_count": null,
   "id": "8684ae1c",
   "metadata": {
    "execution": {
     "iopub.execute_input": "2023-03-17T04:29:43.032474Z",
     "iopub.status.busy": "2023-03-17T04:29:43.032195Z",
     "iopub.status.idle": "2023-03-17T04:29:43.037313Z",
     "shell.execute_reply": "2023-03-17T04:29:43.036334Z"
    },
    "id": "iIHn79Iav1ri",
    "papermill": {
     "duration": 0.013406,
     "end_time": "2023-03-17T04:29:43.039388",
     "exception": false,
     "start_time": "2023-03-17T04:29:43.025982",
     "status": "completed"
    },
    "tags": []
   },
   "outputs": [],
   "source": [
    "# data prarameters\n",
    "concat_nframes = 25      # the number of frames to concat with, n must be odd (total 2k+1 = n frames)\n",
    "train_ratio = 0.9              # the ratio of data used for training, the rest will be used for validation\n",
    "\n",
    "# training parameters\n",
    "seed = 1102                        # random seed\n",
    "batch_size = 512                # batch size\n",
    "num_epoch = 20                  # the number of training epoch\n",
    "learning_rate = 1e-4         # learning rate\n",
    "model_path = './model.ckpt'     # the path where the checkpoint will be saved\n",
    "\n",
    "# model parameters\n",
    "input_dim = 39 * concat_nframes # the input dim of the model, you should not change the value\n",
    "hidden_layers = 6           # the number of hidden layers\n",
    "hidden_dim = 700            # the hidden dim\n",
    "\n",
    "estimators = 5"
   ]
  },
  {
   "cell_type": "markdown",
   "id": "f87372a4",
   "metadata": {
    "id": "IIUFRgG5yoDn",
    "papermill": {
     "duration": 0.005224,
     "end_time": "2023-03-17T04:29:43.049683",
     "exception": false,
     "start_time": "2023-03-17T04:29:43.044459",
     "status": "completed"
    },
    "tags": []
   },
   "source": [
    "# Dataloader"
   ]
  },
  {
   "cell_type": "code",
   "execution_count": null,
   "id": "61054277",
   "metadata": {
    "execution": {
     "iopub.execute_input": "2023-03-17T04:29:43.061461Z",
     "iopub.status.busy": "2023-03-17T04:29:43.060818Z",
     "iopub.status.idle": "2023-03-17T04:30:10.710191Z",
     "shell.execute_reply": "2023-03-17T04:30:10.708756Z"
    },
    "id": "c1zI3v5jyrDn",
    "outputId": "6e7eeb1b-b76a-4846-b9b4-055d66c05661",
    "papermill": {
     "duration": 27.658972,
     "end_time": "2023-03-17T04:30:10.713734",
     "exception": false,
     "start_time": "2023-03-17T04:29:43.054762",
     "status": "completed"
    },
    "tags": []
   },
   "outputs": [],
   "source": [
    "from torch.utils.data import DataLoader\n",
    "import gc\n",
    "\n",
    "same_seeds(seed)\n",
    "device = 'cuda' if torch.cuda.is_available() else 'cpu'\n",
    "print(f'DEVICE: {device}')\n",
    "\n",
    "# preprocess data\n",
    "train_X, train_y = preprocess_data(split='train', feat_dir='/kaggle/input/ml2023spring-hw2/libriphone/feat', phone_path='/kaggle/input/ml2023spring-hw2/libriphone', concat_nframes=concat_nframes, train_ratio=train_ratio)\n",
    "val_X, val_y = preprocess_data(split='val', feat_dir='/kaggle/input/ml2023spring-hw2/libriphone/feat', phone_path='/kaggle/input/ml2023spring-hw2/libriphone', concat_nframes=concat_nframes, train_ratio=train_ratio)\n",
    "\n",
    "# get dataset\n",
    "train_set = LibriDataset(train_X, train_y)\n",
    "val_set = LibriDataset(val_X, val_y)\n",
    "\n",
    "# remove raw feature to save memory\n",
    "del train_X, train_y, val_X, val_y\n",
    "gc.collect()\n",
    "\n",
    "# get dataloader\n",
    "train_loader = DataLoader(train_set, batch_size=batch_size, shuffle=True)\n",
    "val_loader = DataLoader(val_set, batch_size=batch_size, shuffle=False)"
   ]
  },
  {
   "cell_type": "code",
   "execution_count": null,
   "id": "a1b6a36d",
   "metadata": {
    "execution": {
     "iopub.execute_input": "2023-03-17T04:30:10.753397Z",
     "iopub.status.busy": "2023-03-17T04:30:10.752817Z",
     "iopub.status.idle": "2023-03-17T05:31:51.143817Z",
     "shell.execute_reply": "2023-03-17T05:31:51.142645Z"
    },
    "papermill": {
     "duration": 3700.412888,
     "end_time": "2023-03-17T05:31:51.146722",
     "exception": false,
     "start_time": "2023-03-17T04:30:10.733834",
     "status": "completed"
    },
    "tags": []
   },
   "outputs": [],
   "source": [
    "from torchensemble import VotingClassifier  # voting is a classic ensemble strategy\n",
    "from torchensemble.utils.logging import set_logger\n",
    "\n",
    "logger = set_logger('log')\n",
    "\n",
    "ensemble = VotingClassifier(\n",
    "    estimator=Classifier(input_dim=input_dim, hidden_layers=hidden_layers, hidden_dim=hidden_dim),               # here is your deep learning model\n",
    "    n_estimators=estimators ,                       # number of base estimators\n",
    "    cuda=True,\n",
    ")\n",
    "\n",
    "criterion = nn.CrossEntropyLoss(label_smoothing = 0.1)   \n",
    "ensemble.set_criterion(criterion)\n",
    "\n",
    "ensemble.set_optimizer(\n",
    "    \"AdamW\",                                 # type of parameter optimizer\n",
    "    lr=learning_rate,                       # learning rate of parameter optimizer\n",
    ")\n",
    "\n",
    "ensemble.fit(\n",
    "    train_loader,\n",
    "    epochs=num_epoch,                          # number of training epochs\n",
    "    test_loader = val_loader,\n",
    "    save_dir = './'\n",
    ")"
   ]
  },
  {
   "cell_type": "markdown",
   "id": "91f32146",
   "metadata": {
    "id": "pwWH1KIqzxEr",
    "papermill": {
     "duration": 0.211988,
     "end_time": "2023-03-17T05:31:51.574457",
     "exception": false,
     "start_time": "2023-03-17T05:31:51.362469",
     "status": "completed"
    },
    "tags": []
   },
   "source": [
    "# Training"
   ]
  },
  {
   "cell_type": "code",
   "execution_count": null,
   "id": "4b5e5d49",
   "metadata": {
    "execution": {
     "iopub.execute_input": "2023-03-17T05:31:52.017590Z",
     "iopub.status.busy": "2023-03-17T05:31:52.017248Z",
     "iopub.status.idle": "2023-03-17T05:31:52.702894Z",
     "shell.execute_reply": "2023-03-17T05:31:52.701707Z"
    },
    "id": "ab33MxosWLmG",
    "outputId": "0d5e2cc6-46f3-41b9-ea09-79fdf660898f",
    "papermill": {
     "duration": 0.904587,
     "end_time": "2023-03-17T05:31:52.705459",
     "exception": false,
     "start_time": "2023-03-17T05:31:51.800872",
     "status": "completed"
    },
    "tags": []
   },
   "outputs": [],
   "source": [
    "del train_set, val_set\n",
    "del train_loader, val_loader\n",
    "gc.collect()"
   ]
  },
  {
   "cell_type": "markdown",
   "id": "6cdb3bfd",
   "metadata": {
    "id": "1Hi7jTn3PX-m",
    "papermill": {
     "duration": 0.223213,
     "end_time": "2023-03-17T05:31:53.245223",
     "exception": false,
     "start_time": "2023-03-17T05:31:53.022010",
     "status": "completed"
    },
    "tags": []
   },
   "source": [
    "# Testing\n",
    "Create a testing dataset, and load model from the saved checkpoint."
   ]
  },
  {
   "cell_type": "code",
   "execution_count": null,
   "id": "0dcdae1a",
   "metadata": {
    "execution": {
     "iopub.execute_input": "2023-03-17T05:31:53.697336Z",
     "iopub.status.busy": "2023-03-17T05:31:53.696905Z",
     "iopub.status.idle": "2023-03-17T05:32:01.391013Z",
     "shell.execute_reply": "2023-03-17T05:32:01.387803Z"
    },
    "id": "VOG1Ou0PGrhc",
    "outputId": "3373d328-bb42-48ec-92f2-e2e935c3344c",
    "papermill": {
     "duration": 7.920497,
     "end_time": "2023-03-17T05:32:01.393065",
     "exception": false,
     "start_time": "2023-03-17T05:31:53.472568",
     "status": "completed"
    },
    "tags": []
   },
   "outputs": [],
   "source": [
    "# load data\n",
    "test_X = preprocess_data(split='test', feat_dir='/kaggle/input/ml2023spring-hw2/libriphone/feat', phone_path='/kaggle/input/ml2023spring-hw2/libriphone', concat_nframes=concat_nframes)\n",
    "test_set = LibriDataset(test_X, None)\n",
    "test_loader = DataLoader(test_set, batch_size=batch_size, shuffle=False)"
   ]
  },
  {
   "cell_type": "code",
   "execution_count": null,
   "id": "67291256",
   "metadata": {
    "execution": {
     "iopub.execute_input": "2023-03-17T05:32:01.826957Z",
     "iopub.status.busy": "2023-03-17T05:32:01.825894Z",
     "iopub.status.idle": "2023-03-17T05:32:02.051898Z",
     "shell.execute_reply": "2023-03-17T05:32:02.050945Z"
    },
    "id": "ay0Fu8Ovkdad",
    "outputId": "fe130106-a997-4985-fc4b-5102414afe31",
    "papermill": {
     "duration": 0.445279,
     "end_time": "2023-03-17T05:32:02.054388",
     "exception": false,
     "start_time": "2023-03-17T05:32:01.609109",
     "status": "completed"
    },
    "tags": []
   },
   "outputs": [],
   "source": [
    "# load model\n",
    "from torchensemble.utils import io\n",
    "test_ensemble = VotingClassifier(\n",
    "    estimator=Classifier(input_dim=input_dim, hidden_layers=hidden_layers, hidden_dim=hidden_dim),               # here is your deep learning model\n",
    "    n_estimators=estimators,                        # number of base estimators\n",
    "    cuda=True,\n",
    ")\n",
    "io.load(test_ensemble,'./')  # reload\n"
   ]
  },
  {
   "cell_type": "markdown",
   "id": "2e85dfd3",
   "metadata": {
    "id": "zp-DV1p4r7Nz",
    "papermill": {
     "duration": 0.213074,
     "end_time": "2023-03-17T05:32:02.485588",
     "exception": false,
     "start_time": "2023-03-17T05:32:02.272514",
     "status": "completed"
    },
    "tags": []
   },
   "source": [
    "Make prediction."
   ]
  },
  {
   "cell_type": "code",
   "execution_count": null,
   "id": "fe946371",
   "metadata": {
    "execution": {
     "iopub.execute_input": "2023-03-17T05:32:02.961258Z",
     "iopub.status.busy": "2023-03-17T05:32:02.960870Z",
     "iopub.status.idle": "2023-03-17T05:32:11.154280Z",
     "shell.execute_reply": "2023-03-17T05:32:11.153116Z"
    },
    "id": "84HU5GGjPqR0",
    "outputId": "b49ffee0-1785-419d-e56c-0ddd734b2c99",
    "papermill": {
     "duration": 8.410073,
     "end_time": "2023-03-17T05:32:11.156749",
     "exception": false,
     "start_time": "2023-03-17T05:32:02.746676",
     "status": "completed"
    },
    "tags": []
   },
   "outputs": [],
   "source": [
    "\n",
    "\n",
    "pred = np.array([], dtype=np.int32)\n",
    "\n",
    "\n",
    "with torch.no_grad():\n",
    "    for i, batch in enumerate(tqdm(test_loader)):\n",
    "        features = batch\n",
    "        features = features.to(device)\n",
    "        \n",
    "        outputs = test_ensemble.predict(features)\n",
    "\n",
    "        _, test_pred = torch.max(outputs, 1) # get the index of the class with the highest probability\n",
    "        pred = np.concatenate((pred, test_pred.cpu().numpy()), axis=0)\n"
   ]
  },
  {
   "cell_type": "markdown",
   "id": "26dfa0fd",
   "metadata": {
    "id": "wyZqy40Prz0v",
    "papermill": {
     "duration": 0.21995,
     "end_time": "2023-03-17T05:32:11.600525",
     "exception": false,
     "start_time": "2023-03-17T05:32:11.380575",
     "status": "completed"
    },
    "tags": []
   },
   "source": [
    "Write prediction to a CSV file.\n",
    "\n",
    "After finish running this block, download the file `prediction.csv` from the files section on the left-hand side and submit it to Kaggle."
   ]
  },
  {
   "cell_type": "code",
   "execution_count": null,
   "id": "fe72dc2f",
   "metadata": {
    "execution": {
     "iopub.execute_input": "2023-03-17T05:32:12.058124Z",
     "iopub.status.busy": "2023-03-17T05:32:12.057102Z",
     "iopub.status.idle": "2023-03-17T05:32:12.464309Z",
     "shell.execute_reply": "2023-03-17T05:32:12.463266Z"
    },
    "id": "GuljYSPHcZir",
    "papermill": {
     "duration": 0.644195,
     "end_time": "2023-03-17T05:32:12.466793",
     "exception": false,
     "start_time": "2023-03-17T05:32:11.822598",
     "status": "completed"
    },
    "tags": []
   },
   "outputs": [],
   "source": [
    "with open('prediction.csv', 'w') as f:\n",
    "    f.write('Id,Class\\n')\n",
    "    for i, y in enumerate(pred):\n",
    "        f.write('{},{}\\n'.format(i, y))"
   ]
  }
 ],
 "metadata": {
  "kernelspec": {
   "display_name": "Python 3",
   "language": "python",
   "name": "python3"
  },
  "language_info": {
   "codemirror_mode": {
    "name": "ipython",
    "version": 3
   },
   "file_extension": ".py",
   "mimetype": "text/x-python",
   "name": "python",
   "nbconvert_exporter": "python",
   "pygments_lexer": "ipython3",
   "version": "3.7.12"
  },
  "papermill": {
   "default_parameters": {},
   "duration": 3772.106832,
   "end_time": "2023-03-17T05:32:14.019075",
   "environment_variables": {},
   "exception": null,
   "input_path": "__notebook__.ipynb",
   "output_path": "__notebook__.ipynb",
   "parameters": {},
   "start_time": "2023-03-17T04:29:21.912243",
   "version": "2.3.4"
  }
 },
 "nbformat": 4,
 "nbformat_minor": 5
}
