{
 "cells": [
  {
   "cell_type": "markdown",
   "id": "256d14a1",
   "metadata": {
    "id": "OYlaRwNu7ojq",
    "papermill": {
     "duration": 0.007219,
     "end_time": "2023-03-15T14:00:21.732204",
     "exception": false,
     "start_time": "2023-03-15T14:00:21.724985",
     "status": "completed"
    },
    "tags": []
   },
   "source": [
    "# **Homework 2: Phoneme Classification**\n"
   ]
  },
  {
   "cell_type": "markdown",
   "id": "9c234ec0",
   "metadata": {
    "id": "A7DRC5V7_8A5",
    "papermill": {
     "duration": 0.005665,
     "end_time": "2023-03-15T14:00:21.743887",
     "exception": false,
     "start_time": "2023-03-15T14:00:21.738222",
     "status": "completed"
    },
    "tags": []
   },
   "source": [
    "Objectives:\n",
    "* Solve a classification problem with deep neural networks (DNNs).\n",
    "* Understand recursive neural networks (RNNs).\n",
    "\n",
    "If you have any questions, please contact the TAs via TA hours, NTU COOL, or email to mlta-2023-spring@googlegroups.com"
   ]
  },
  {
   "cell_type": "markdown",
   "id": "d4322e0a",
   "metadata": {
    "id": "pADUiYODJE1O",
    "papermill": {
     "duration": 0.005681,
     "end_time": "2023-03-15T14:00:21.755416",
     "exception": false,
     "start_time": "2023-03-15T14:00:21.749735",
     "status": "completed"
    },
    "tags": []
   },
   "source": [
    "# Some Utility Functions\n",
    "**Fixes random number generator seeds for reproducibility.**"
   ]
  },
  {
   "cell_type": "code",
   "execution_count": null,
   "id": "48b002cc",
   "metadata": {
    "execution": {
     "iopub.execute_input": "2023-03-15T14:00:21.769349Z",
     "iopub.status.busy": "2023-03-15T14:00:21.768837Z",
     "iopub.status.idle": "2023-03-15T14:00:24.034127Z",
     "shell.execute_reply": "2023-03-15T14:00:24.033050Z"
    },
    "id": "BsZKgBZQJjaE",
    "papermill": {
     "duration": 2.275801,
     "end_time": "2023-03-15T14:00:24.037048",
     "exception": false,
     "start_time": "2023-03-15T14:00:21.761247",
     "status": "completed"
    },
    "tags": []
   },
   "outputs": [],
   "source": [
    "import numpy as np\n",
    "import torch\n",
    "import matplotlib.pyplot as plt\n",
    "import random\n",
    "\n",
    "def same_seeds(seed):\n",
    "    random.seed(seed) \n",
    "    np.random.seed(seed)  \n",
    "    torch.manual_seed(seed)\n",
    "    if torch.cuda.is_available():\n",
    "        torch.cuda.manual_seed(seed)\n",
    "        torch.cuda.manual_seed_all(seed) \n",
    "    torch.backends.cudnn.benchmark = False\n",
    "    torch.backends.cudnn.deterministic = True"
   ]
  },
  {
   "cell_type": "markdown",
   "id": "2f82c8af",
   "metadata": {
    "id": "_L_4anls8Drv",
    "papermill": {
     "duration": 0.005326,
     "end_time": "2023-03-15T14:00:24.048508",
     "exception": false,
     "start_time": "2023-03-15T14:00:24.043182",
     "status": "completed"
    },
    "tags": []
   },
   "source": [
    "**Helper functions to pre-process the training data from raw MFCC features of each utterance.**\n",
    "\n",
    "A phoneme may span several frames and is dependent to past and future frames. \\\n",
    "Hence we concatenate neighboring phonemes for training to achieve higher accuracy. The **concat_feat** function concatenates past and future k frames (total 2k+1 = n frames), and we predict the center frame.\n",
    "\n",
    "Feel free to modify the data preprocess functions, but **do not drop any frame** (if you modify the functions, remember to check that the number of frames are the same as mentioned in the slides)"
   ]
  },
  {
   "cell_type": "code",
   "execution_count": null,
   "id": "287b6b74",
   "metadata": {
    "execution": {
     "iopub.execute_input": "2023-03-15T14:00:24.060567Z",
     "iopub.status.busy": "2023-03-15T14:00:24.060094Z",
     "iopub.status.idle": "2023-03-15T14:00:24.079363Z",
     "shell.execute_reply": "2023-03-15T14:00:24.078447Z"
    },
    "id": "IJjLT8em-y9G",
    "papermill": {
     "duration": 0.027848,
     "end_time": "2023-03-15T14:00:24.081624",
     "exception": false,
     "start_time": "2023-03-15T14:00:24.053776",
     "status": "completed"
    },
    "tags": []
   },
   "outputs": [],
   "source": [
    "import os\n",
    "import torch\n",
    "from tqdm import tqdm\n",
    "\n",
    "def load_feat(path):\n",
    "    feat = torch.load(path)\n",
    "    return feat\n",
    "\n",
    "def shift(x, n):\n",
    "    if n < 0:\n",
    "        left = x[0].repeat(-n, 1)\n",
    "        right = x[:n]\n",
    "    elif n > 0:\n",
    "        right = x[-1].repeat(n, 1)\n",
    "        left = x[n:]\n",
    "    else:\n",
    "        return x\n",
    "\n",
    "    return torch.cat((left, right), dim=0)\n",
    "\n",
    "def concat_feat(x, concat_n):\n",
    "    assert concat_n % 2 == 1 # n must be odd\n",
    "    if concat_n < 2:\n",
    "        return x\n",
    "    seq_len, feature_dim = x.size(0), x.size(1)\n",
    "    x = x.repeat(1, concat_n) \n",
    "    x = x.view(seq_len, concat_n, feature_dim).permute(1, 0, 2) # concat_n, seq_len, feature_dim\n",
    "    mid = (concat_n // 2)\n",
    "    for r_idx in range(1, mid+1):\n",
    "        x[mid + r_idx, :] = shift(x[mid + r_idx], r_idx)\n",
    "        x[mid - r_idx, :] = shift(x[mid - r_idx], -r_idx)\n",
    "\n",
    "    return x.permute(1, 0, 2).view(seq_len, concat_n * feature_dim)\n",
    "\n",
    "def preprocess_data(split, feat_dir, phone_path, concat_nframes, train_ratio=0.8):\n",
    "    class_num = 41 # NOTE: pre-computed, should not need change\n",
    "\n",
    "    if split == 'train' or split == 'val':\n",
    "        mode = 'train'\n",
    "    elif split == 'test':\n",
    "        mode = 'test'\n",
    "    else:\n",
    "        raise ValueError('Invalid \\'split\\' argument for dataset: PhoneDataset!')\n",
    "\n",
    "    label_dict = {}\n",
    "    if mode == 'train':\n",
    "        for line in open(os.path.join(phone_path, f'{mode}_labels.txt')).readlines():\n",
    "            line = line.strip('\\n').split(' ')\n",
    "            label_dict[line[0]] = [int(p) for p in line[1:]]\n",
    "        \n",
    "        # split training and validation data\n",
    "        usage_list = open(os.path.join(phone_path, 'train_split.txt')).readlines()\n",
    "        random.shuffle(usage_list)\n",
    "        train_len = int(len(usage_list) * train_ratio)\n",
    "        usage_list = usage_list[:train_len] if split == 'train' else usage_list[train_len:]\n",
    "\n",
    "    elif mode == 'test':\n",
    "        usage_list = open(os.path.join(phone_path, 'test_split.txt')).readlines()\n",
    "\n",
    "    usage_list = [line.strip('\\n') for line in usage_list]\n",
    "    print('[Dataset] - # phone classes: ' + str(class_num) + ', number of utterances for ' + split + ': ' + str(len(usage_list)))\n",
    "\n",
    "    max_len = 3000000\n",
    "    X = torch.empty(max_len, 39 * concat_nframes)\n",
    "    if mode == 'train':\n",
    "        y = torch.empty(max_len, dtype=torch.long)\n",
    "\n",
    "    idx = 0\n",
    "    for i, fname in tqdm(enumerate(usage_list)):\n",
    "        feat = load_feat(os.path.join(feat_dir, mode, f'{fname}.pt'))\n",
    "        cur_len = len(feat)\n",
    "        feat = concat_feat(feat, concat_nframes)\n",
    "        if mode == 'train':\n",
    "          label = torch.LongTensor(label_dict[fname])\n",
    "\n",
    "        X[idx: idx + cur_len, :] = feat\n",
    "        if mode == 'train':\n",
    "          y[idx: idx + cur_len] = label\n",
    "\n",
    "        idx += cur_len\n",
    "\n",
    "    X = X[:idx, :]\n",
    "    if mode == 'train':\n",
    "      y = y[:idx]\n",
    "\n",
    "    print(f'[INFO] {split} set')\n",
    "    print(X.shape)\n",
    "    if mode == 'train':\n",
    "      print(y.shape)\n",
    "      return X, y\n",
    "    else:\n",
    "      return X\n"
   ]
  },
  {
   "cell_type": "markdown",
   "id": "a1636f62",
   "metadata": {
    "id": "us5XW_x6udZQ",
    "papermill": {
     "duration": 0.004798,
     "end_time": "2023-03-15T14:00:24.091461",
     "exception": false,
     "start_time": "2023-03-15T14:00:24.086663",
     "status": "completed"
    },
    "tags": []
   },
   "source": [
    "# Dataset"
   ]
  },
  {
   "cell_type": "code",
   "execution_count": null,
   "id": "8d87bbfb",
   "metadata": {
    "execution": {
     "iopub.execute_input": "2023-03-15T14:00:24.102523Z",
     "iopub.status.busy": "2023-03-15T14:00:24.102239Z",
     "iopub.status.idle": "2023-03-15T14:00:24.108417Z",
     "shell.execute_reply": "2023-03-15T14:00:24.107444Z"
    },
    "id": "Fjf5EcmJtf4e",
    "papermill": {
     "duration": 0.014371,
     "end_time": "2023-03-15T14:00:24.110746",
     "exception": false,
     "start_time": "2023-03-15T14:00:24.096375",
     "status": "completed"
    },
    "tags": []
   },
   "outputs": [],
   "source": [
    "import torch\n",
    "from torch.utils.data import Dataset\n",
    "\n",
    "class LibriDataset(Dataset):\n",
    "    def __init__(self, X, y=None):\n",
    "        self.data = X\n",
    "        if y is not None:\n",
    "            self.label = torch.LongTensor(y)\n",
    "        else:\n",
    "            self.label = None\n",
    "\n",
    "    def __getitem__(self, idx):\n",
    "        if self.label is not None:\n",
    "            return self.data[idx], self.label[idx]\n",
    "        else:\n",
    "            return self.data[idx]\n",
    "\n",
    "    def __len__(self):\n",
    "        return len(self.data)\n"
   ]
  },
  {
   "cell_type": "markdown",
   "id": "1212b0c9",
   "metadata": {
    "id": "IRqKNvNZwe3V",
    "papermill": {
     "duration": 0.004698,
     "end_time": "2023-03-15T14:00:24.120364",
     "exception": false,
     "start_time": "2023-03-15T14:00:24.115666",
     "status": "completed"
    },
    "tags": []
   },
   "source": [
    "# Model\n",
    "Feel free to modify the structure of the model."
   ]
  },
  {
   "cell_type": "code",
   "execution_count": null,
   "id": "5ba57a3b",
   "metadata": {
    "execution": {
     "iopub.execute_input": "2023-03-15T14:00:24.131399Z",
     "iopub.status.busy": "2023-03-15T14:00:24.131133Z",
     "iopub.status.idle": "2023-03-15T14:00:24.141062Z",
     "shell.execute_reply": "2023-03-15T14:00:24.140067Z"
    },
    "id": "Bg-GRd7ywdrL",
    "papermill": {
     "duration": 0.017785,
     "end_time": "2023-03-15T14:00:24.143062",
     "exception": false,
     "start_time": "2023-03-15T14:00:24.125277",
     "status": "completed"
    },
    "tags": []
   },
   "outputs": [],
   "source": [
    "import torch.nn as nn\n",
    "\n",
    "class TransformerClassifier(nn.Module):\n",
    "    def __init__(self, input_dim, d_model , num_head , dim_fc , output_dim=41 ):\n",
    "        super(TransformerClassifier, self).__init__()\n",
    "        \n",
    "        self.prefc = nn.Linear(input_dim , d_model)\n",
    "        self.transformer = nn.TransformerEncoderLayer(d_model , num_head , dim_feedforward = dim_fc , dropout=0.30 , batch_first = True)\n",
    "        self.fc = nn.Linear(d_model ,output_dim)\n",
    "        \n",
    "    def forward(self, x):\n",
    "        x = self.prefc(x)\n",
    "        x = self.transformer(x)\n",
    "        x = self.fc(x)\n",
    "        \n",
    "        return x\n",
    "    \n",
    "\n",
    "class BasicBlock(nn.Module):\n",
    "    def __init__(self, input_dim, output_dim):\n",
    "        super(BasicBlock, self).__init__()\n",
    "\n",
    "        self.block = nn.Sequential(\n",
    "            nn.Dropout(0.2),\n",
    "            nn.Linear(input_dim, output_dim),\n",
    "            nn.BatchNorm1d(output_dim),\n",
    "            nn.ReLU(),\n",
    "        )\n",
    "\n",
    "    def forward(self, x):\n",
    "        x = self.block(x)\n",
    "        return x\n",
    "\n",
    "\n",
    "class Classifier(nn.Module):\n",
    "    def __init__(self, input_dim, output_dim=41, hidden_layers=1, hidden_dim=256):\n",
    "        super(Classifier, self).__init__()\n",
    "\n",
    "        self.fc = nn.Sequential(\n",
    "            BasicBlock(input_dim, hidden_dim),\n",
    "            *[BasicBlock(hidden_dim, hidden_dim) for _ in range(hidden_layers)],\n",
    "            nn.Linear(hidden_dim, output_dim)\n",
    "            \n",
    "            \n",
    "        )\n",
    "\n",
    "    def forward(self, x):\n",
    "        x = self.fc(x)\n",
    "        return x"
   ]
  },
  {
   "cell_type": "code",
   "execution_count": null,
   "id": "877be1bf",
   "metadata": {
    "execution": {
     "iopub.execute_input": "2023-03-15T14:00:24.154534Z",
     "iopub.status.busy": "2023-03-15T14:00:24.153774Z",
     "iopub.status.idle": "2023-03-15T14:00:24.160109Z",
     "shell.execute_reply": "2023-03-15T14:00:24.159168Z"
    },
    "papermill": {
     "duration": 0.014167,
     "end_time": "2023-03-15T14:00:24.162121",
     "exception": false,
     "start_time": "2023-03-15T14:00:24.147954",
     "status": "completed"
    },
    "tags": []
   },
   "outputs": [],
   "source": [
    "def draw_fig(train , valid , name):\n",
    "    print(train)\n",
    "    print(valid)\n",
    "    plt.plot([*range(1,len(train)+1)] , train , label = \"training\")\n",
    "    plt.plot([*range(1,len(valid)+1)] , valid , label = \"validation\")\n",
    "\n",
    "    plt.xticks(np.arange(0, len(train)+1, 5))\n",
    "    plt.legend(loc=\"upper left\")\n",
    "\n",
    "    plt.savefig(f'{name}.png')\n",
    "    plt.show()"
   ]
  },
  {
   "cell_type": "markdown",
   "id": "2891ce29",
   "metadata": {
    "id": "TlIq8JeqvvHC",
    "papermill": {
     "duration": 0.004831,
     "end_time": "2023-03-15T14:00:24.171843",
     "exception": false,
     "start_time": "2023-03-15T14:00:24.167012",
     "status": "completed"
    },
    "tags": []
   },
   "source": [
    "# Hyper-parameters"
   ]
  },
  {
   "cell_type": "code",
   "execution_count": null,
   "id": "6cfd8acf",
   "metadata": {
    "execution": {
     "iopub.execute_input": "2023-03-15T14:00:24.183373Z",
     "iopub.status.busy": "2023-03-15T14:00:24.182566Z",
     "iopub.status.idle": "2023-03-15T14:00:24.188151Z",
     "shell.execute_reply": "2023-03-15T14:00:24.187176Z"
    },
    "id": "iIHn79Iav1ri",
    "papermill": {
     "duration": 0.013439,
     "end_time": "2023-03-15T14:00:24.190168",
     "exception": false,
     "start_time": "2023-03-15T14:00:24.176729",
     "status": "completed"
    },
    "tags": []
   },
   "outputs": [],
   "source": [
    "# data prarameters\n",
    "concat_nframes = 27      # the number of frames to concat with, n must be odd (total 2k+1 = n frames)\n",
    "train_ratio = 0.9               # the ratio of data used for training, the rest will be used for validation\n",
    "\n",
    "# training parameters\n",
    "seed = 1102                        # random seed\n",
    "batch_size = 512                # batch size\n",
    "num_epoch = 50                # the number of training epoch\n",
    "learning_rate = 1e-4         # learning rate\n",
    "model_path = './model.ckpt'     # the path where the checkpoint will be saved\n",
    "\n",
    "input_dim = 39 * concat_nframes # the input dim of the model, you should not change the value\n",
    "# transformer model parameters\n",
    "d_model = 13 * concat_nframes\n",
    "num_head = 1\n",
    "dim_fc = 700\n",
    "\n",
    "# MLP model parameters\n",
    "hidden_layers = 6           # the number of hidden layers\n",
    "hidden_dim = 450            # the hidden dim\n"
   ]
  },
  {
   "cell_type": "markdown",
   "id": "311f337f",
   "metadata": {
    "id": "IIUFRgG5yoDn",
    "papermill": {
     "duration": 0.004769,
     "end_time": "2023-03-15T14:00:24.199803",
     "exception": false,
     "start_time": "2023-03-15T14:00:24.195034",
     "status": "completed"
    },
    "tags": []
   },
   "source": [
    "# Dataloader"
   ]
  },
  {
   "cell_type": "code",
   "execution_count": null,
   "id": "d6071e0c",
   "metadata": {
    "execution": {
     "iopub.execute_input": "2023-03-15T14:00:24.210901Z",
     "iopub.status.busy": "2023-03-15T14:00:24.210633Z",
     "iopub.status.idle": "2023-03-15T14:00:57.641372Z",
     "shell.execute_reply": "2023-03-15T14:00:57.640088Z"
    },
    "id": "c1zI3v5jyrDn",
    "outputId": "6e7eeb1b-b76a-4846-b9b4-055d66c05661",
    "papermill": {
     "duration": 33.440309,
     "end_time": "2023-03-15T14:00:57.645093",
     "exception": false,
     "start_time": "2023-03-15T14:00:24.204784",
     "status": "completed"
    },
    "tags": []
   },
   "outputs": [],
   "source": [
    "from torch.utils.data import DataLoader\n",
    "import gc\n",
    "\n",
    "same_seeds(seed)\n",
    "device = 'cuda' if torch.cuda.is_available() else 'cpu'\n",
    "print(f'DEVICE: {device}')\n",
    "\n",
    "# preprocess data\n",
    "train_X, train_y = preprocess_data(split='train', feat_dir='/kaggle/input/ml2023spring-hw2/libriphone/feat', phone_path='/kaggle/input/ml2023spring-hw2/libriphone', concat_nframes=concat_nframes, train_ratio=train_ratio)\n",
    "val_X, val_y = preprocess_data(split='val', feat_dir='/kaggle/input/ml2023spring-hw2/libriphone/feat', phone_path='/kaggle/input/ml2023spring-hw2/libriphone', concat_nframes=concat_nframes, train_ratio=train_ratio)\n",
    "\n",
    "# get dataset\n",
    "train_set = LibriDataset(train_X, train_y)\n",
    "val_set = LibriDataset(val_X, val_y)\n",
    "\n",
    "# remove raw feature to save memory\n",
    "del train_X, train_y, val_X, val_y\n",
    "gc.collect()\n",
    "\n",
    "# get dataloader\n",
    "train_loader = DataLoader(train_set, batch_size=batch_size, shuffle=True)\n",
    "val_loader = DataLoader(val_set, batch_size=batch_size, shuffle=False)"
   ]
  },
  {
   "cell_type": "markdown",
   "id": "011a549e",
   "metadata": {
    "id": "pwWH1KIqzxEr",
    "papermill": {
     "duration": 0.01973,
     "end_time": "2023-03-15T14:00:57.686071",
     "exception": false,
     "start_time": "2023-03-15T14:00:57.666341",
     "status": "completed"
    },
    "tags": []
   },
   "source": [
    "# Training"
   ]
  },
  {
   "cell_type": "code",
   "execution_count": null,
   "id": "dd020c71",
   "metadata": {
    "execution": {
     "iopub.execute_input": "2023-03-15T14:00:57.727489Z",
     "iopub.status.busy": "2023-03-15T14:00:57.726903Z",
     "iopub.status.idle": "2023-03-15T14:00:57.739730Z",
     "shell.execute_reply": "2023-03-15T14:00:57.738751Z"
    },
    "papermill": {
     "duration": 0.036028,
     "end_time": "2023-03-15T14:00:57.741748",
     "exception": false,
     "start_time": "2023-03-15T14:00:57.705720",
     "status": "completed"
    },
    "tags": []
   },
   "outputs": [],
   "source": [
    "def train(model , model_path , file_name):\n",
    "    # model = TransformerClassifier(input_dim , d_model , num_head , dim_fc).to(device)\n",
    "    criterion = nn.CrossEntropyLoss(label_smoothing = 0.1) \n",
    "    optimizer = torch.optim.AdamW(model.parameters(), lr=learning_rate)\n",
    "\n",
    "    train_record = []\n",
    "    val_record = []\n",
    "    train_loss_record = []\n",
    "    val_loss_record = []\n",
    "\n",
    "    best_acc = 0.0\n",
    "    for epoch in range(num_epoch):\n",
    "        train_acc = 0.0\n",
    "        train_loss = 0.0\n",
    "        val_acc = 0.0\n",
    "        val_loss = 0.0\n",
    "        \n",
    "        # training\n",
    "        model.train() # set the model to training mode\n",
    "        for i, batch in enumerate(tqdm(train_loader)):\n",
    "            features, labels = batch\n",
    "            features = features.to(device)\n",
    "            labels = labels.to(device)\n",
    "            \n",
    "            optimizer.zero_grad() \n",
    "            outputs = model(features) \n",
    "            \n",
    "            loss = criterion(outputs, labels)\n",
    "            loss.backward() \n",
    "            optimizer.step() \n",
    "            \n",
    "            _, train_pred = torch.max(outputs, 1) # get the index of the class with the highest probability\n",
    "            train_acc += (train_pred.detach() == labels.detach()).sum().item()\n",
    "            train_loss += loss.item()\n",
    "        \n",
    "        # validation\n",
    "        model.eval() # set the model to evaluation mode\n",
    "        with torch.no_grad():\n",
    "            for i, batch in enumerate(tqdm(val_loader)):\n",
    "                features, labels = batch\n",
    "                features = features.to(device)\n",
    "                labels = labels.to(device)\n",
    "                outputs = model(features)\n",
    "                \n",
    "                loss = criterion(outputs, labels) \n",
    "                \n",
    "                _, val_pred = torch.max(outputs, 1) \n",
    "                val_acc += (val_pred.cpu() == labels.cpu()).sum().item() # get the index of the class with the highest probability\n",
    "                val_loss += loss.item()\n",
    "\n",
    "        print(f'[{epoch+1:03d}/{num_epoch:03d}] Train Acc: {train_acc/len(train_set):3.5f} Loss: {train_loss/len(train_loader):3.5f} | Val Acc: {val_acc/len(val_set):3.5f} loss: {val_loss/len(val_loader):3.5f}')\n",
    "        \n",
    "        train_record.append(train_acc/len(train_set))\n",
    "        val_record.append(val_acc/len(val_set))\n",
    "        train_loss_record.append(train_loss/len(train_loader))\n",
    "        val_loss_record.append(val_loss/len(val_loader))\n",
    "        \n",
    "        # if the model improves, save a checkpoint at this epoch\n",
    "        if val_acc > best_acc:\n",
    "            best_acc = val_acc\n",
    "            torch.save(model.state_dict(), model_path)\n",
    "            print(f'saving model with acc {best_acc/len(val_set):.5f}')\n",
    "\n",
    "    draw_fig(train_record , val_record , f\"{file_name}_acc\")\n",
    "    draw_fig(train_loss_record , val_loss_record , f\"{file_name}_loss\")\n"
   ]
  },
  {
   "cell_type": "code",
   "execution_count": null,
   "id": "f735d777",
   "metadata": {
    "execution": {
     "iopub.execute_input": "2023-03-15T14:00:57.782737Z",
     "iopub.status.busy": "2023-03-15T14:00:57.782381Z",
     "iopub.status.idle": "2023-03-15T15:01:43.412679Z",
     "shell.execute_reply": "2023-03-15T15:01:43.411722Z"
    },
    "papermill": {
     "duration": 3645.653406,
     "end_time": "2023-03-15T15:01:43.414824",
     "exception": false,
     "start_time": "2023-03-15T14:00:57.761418",
     "status": "completed"
    },
    "tags": []
   },
   "outputs": [],
   "source": [
    "model = TransformerClassifier(input_dim , d_model , num_head , dim_fc).to(device)\n",
    "train(model , './transformer_model.ckpt' , \"transformer\")\n",
    "model = Classifier(input_dim=input_dim, hidden_layers=hidden_layers, hidden_dim=hidden_dim).to(device)\n",
    "train(model , './MLP_model.ckpt' , 'MLP')\n",
    "model = Classifier(input_dim=input_dim, hidden_layers=hidden_layers-1, hidden_dim=hidden_dim+100).to(device)\n",
    "train(model , './MLP2_model.ckpt' , 'MLP2')"
   ]
  },
  {
   "cell_type": "code",
   "execution_count": null,
   "id": "e3f72842",
   "metadata": {
    "execution": {
     "iopub.execute_input": "2023-03-15T15:01:47.332658Z",
     "iopub.status.busy": "2023-03-15T15:01:47.332262Z",
     "iopub.status.idle": "2023-03-15T15:01:47.920618Z",
     "shell.execute_reply": "2023-03-15T15:01:47.919587Z"
    },
    "id": "ab33MxosWLmG",
    "outputId": "0d5e2cc6-46f3-41b9-ea09-79fdf660898f",
    "papermill": {
     "duration": 2.451397,
     "end_time": "2023-03-15T15:01:47.922760",
     "exception": false,
     "start_time": "2023-03-15T15:01:45.471363",
     "status": "completed"
    },
    "tags": []
   },
   "outputs": [],
   "source": [
    "del train_set, val_set\n",
    "del train_loader, val_loader\n",
    "gc.collect()"
   ]
  },
  {
   "cell_type": "markdown",
   "id": "576ebfe8",
   "metadata": {
    "id": "1Hi7jTn3PX-m",
    "papermill": {
     "duration": 1.855393,
     "end_time": "2023-03-15T15:01:51.644449",
     "exception": false,
     "start_time": "2023-03-15T15:01:49.789056",
     "status": "completed"
    },
    "tags": []
   },
   "source": [
    "# Testing\n",
    "Create a testing dataset, and load model from the saved checkpoint."
   ]
  },
  {
   "cell_type": "code",
   "execution_count": null,
   "id": "6b583cc6",
   "metadata": {
    "execution": {
     "iopub.execute_input": "2023-03-15T15:01:55.397396Z",
     "iopub.status.busy": "2023-03-15T15:01:55.396158Z",
     "iopub.status.idle": "2023-03-15T15:02:04.628512Z",
     "shell.execute_reply": "2023-03-15T15:02:04.627434Z"
    },
    "id": "VOG1Ou0PGrhc",
    "outputId": "3373d328-bb42-48ec-92f2-e2e935c3344c",
    "papermill": {
     "duration": 11.128559,
     "end_time": "2023-03-15T15:02:04.630633",
     "exception": false,
     "start_time": "2023-03-15T15:01:53.502074",
     "status": "completed"
    },
    "tags": []
   },
   "outputs": [],
   "source": [
    "# load data\n",
    "test_X = preprocess_data(split='test', feat_dir='/kaggle/input/ml2023spring-hw2/libriphone/feat', phone_path='/kaggle/input/ml2023spring-hw2/libriphone', concat_nframes=concat_nframes)\n",
    "test_set = LibriDataset(test_X, None)\n",
    "test_loader = DataLoader(test_set, batch_size=batch_size, shuffle=False)"
   ]
  },
  {
   "cell_type": "code",
   "execution_count": null,
   "id": "a28f51de",
   "metadata": {
    "execution": {
     "iopub.execute_input": "2023-03-15T15:02:08.528449Z",
     "iopub.status.busy": "2023-03-15T15:02:08.528101Z",
     "iopub.status.idle": "2023-03-15T15:02:08.584650Z",
     "shell.execute_reply": "2023-03-15T15:02:08.583505Z"
    },
    "id": "ay0Fu8Ovkdad",
    "outputId": "fe130106-a997-4985-fc4b-5102414afe31",
    "papermill": {
     "duration": 2.064303,
     "end_time": "2023-03-15T15:02:08.587103",
     "exception": false,
     "start_time": "2023-03-15T15:02:06.522800",
     "status": "completed"
    },
    "tags": []
   },
   "outputs": [],
   "source": [
    "# load model\n",
    "T_model = TransformerClassifier(input_dim , d_model , num_head , dim_fc).to(device)\n",
    "M_model = Classifier(input_dim=input_dim, hidden_layers=hidden_layers, hidden_dim=hidden_dim).to(device)\n",
    "M2_model = Classifier(input_dim=input_dim, hidden_layers=hidden_layers-1, hidden_dim=hidden_dim+100).to(device)\n",
    "T_model.load_state_dict(torch.load('./transformer_model.ckpt'))\n",
    "M_model.load_state_dict(torch.load('./MLP_model.ckpt'))\n",
    "M2_model.load_state_dict(torch.load('./MLP2_model.ckpt'))"
   ]
  },
  {
   "cell_type": "markdown",
   "id": "a0b9553d",
   "metadata": {
    "id": "zp-DV1p4r7Nz",
    "papermill": {
     "duration": 1.824305,
     "end_time": "2023-03-15T15:02:12.221284",
     "exception": false,
     "start_time": "2023-03-15T15:02:10.396979",
     "status": "completed"
    },
    "tags": []
   },
   "source": [
    "Make prediction."
   ]
  },
  {
   "cell_type": "code",
   "execution_count": null,
   "id": "7aaddfc1",
   "metadata": {
    "execution": {
     "iopub.execute_input": "2023-03-15T15:02:15.891725Z",
     "iopub.status.busy": "2023-03-15T15:02:15.891339Z",
     "iopub.status.idle": "2023-03-15T15:02:20.045705Z",
     "shell.execute_reply": "2023-03-15T15:02:20.044568Z"
    },
    "id": "84HU5GGjPqR0",
    "outputId": "b49ffee0-1785-419d-e56c-0ddd734b2c99",
    "papermill": {
     "duration": 5.989767,
     "end_time": "2023-03-15T15:02:20.049314",
     "exception": false,
     "start_time": "2023-03-15T15:02:14.059547",
     "status": "completed"
    },
    "tags": []
   },
   "outputs": [],
   "source": [
    "pred = np.array([], dtype=np.int32)\n",
    "\n",
    "model.eval()\n",
    "with torch.no_grad():\n",
    "    for i, batch in enumerate(tqdm(test_loader)):\n",
    "        features = batch\n",
    "        features = features.to(device)\n",
    "\n",
    "        outputs = T_model(features)/3 + M_model(features)/3 + M2_model(features)/3\n",
    "\n",
    "        _, test_pred = torch.max(outputs, 1) # get the index of the class with the highest probability\n",
    "        pred = np.concatenate((pred, test_pred.cpu().numpy()), axis=0)\n"
   ]
  },
  {
   "cell_type": "markdown",
   "id": "5d7a3c9d",
   "metadata": {
    "id": "wyZqy40Prz0v",
    "papermill": {
     "duration": 1.909133,
     "end_time": "2023-03-15T15:02:23.765080",
     "exception": false,
     "start_time": "2023-03-15T15:02:21.855947",
     "status": "completed"
    },
    "tags": []
   },
   "source": [
    "Write prediction to a CSV file.\n",
    "\n",
    "After finish running this block, download the file `prediction.csv` from the files section on the left-hand side and submit it to Kaggle."
   ]
  },
  {
   "cell_type": "code",
   "execution_count": null,
   "id": "9076f299",
   "metadata": {
    "execution": {
     "iopub.execute_input": "2023-03-15T15:02:27.433667Z",
     "iopub.status.busy": "2023-03-15T15:02:27.432936Z",
     "iopub.status.idle": "2023-03-15T15:02:27.844644Z",
     "shell.execute_reply": "2023-03-15T15:02:27.843621Z"
    },
    "id": "GuljYSPHcZir",
    "papermill": {
     "duration": 2.263843,
     "end_time": "2023-03-15T15:02:27.847485",
     "exception": false,
     "start_time": "2023-03-15T15:02:25.583642",
     "status": "completed"
    },
    "tags": []
   },
   "outputs": [],
   "source": [
    "with open('prediction.csv', 'w') as f:\n",
    "    f.write('Id,Class\\n')\n",
    "    for i, y in enumerate(pred):\n",
    "        f.write('{},{}\\n'.format(i, y))"
   ]
  }
 ],
 "metadata": {
  "kernelspec": {
   "display_name": "Python 3",
   "language": "python",
   "name": "python3"
  },
  "language_info": {
   "codemirror_mode": {
    "name": "ipython",
    "version": 3
   },
   "file_extension": ".py",
   "mimetype": "text/x-python",
   "name": "python",
   "nbconvert_exporter": "python",
   "pygments_lexer": "ipython3",
   "version": "3.7.12"
  },
  "papermill": {
   "default_parameters": {},
   "duration": 3738.812138,
   "end_time": "2023-03-15T15:02:31.341799",
   "environment_variables": {},
   "exception": null,
   "input_path": "__notebook__.ipynb",
   "output_path": "__notebook__.ipynb",
   "parameters": {},
   "start_time": "2023-03-15T14:00:12.529661",
   "version": "2.4.0"
  }
 },
 "nbformat": 4,
 "nbformat_minor": 5
}
