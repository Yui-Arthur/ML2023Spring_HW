{
 "cells": [
  {
   "cell_type": "code",
   "execution_count": 17,
   "metadata": {},
   "outputs": [
    {
     "name": "stdout",
     "output_type": "stream",
     "text": [
      "torch.Size([10, 359, 80])\n",
      "tensor([  5,  17, 255, 153, 211, 329, 359, 147, 177,  31])\n",
      "tensor([  5,  17, 255, 153, 211, 329, 359, 147, 177,  31])\n"
     ]
    }
   ],
   "source": [
    "import torch\n",
    "import torchaudio\n",
    "import torch.nn as nn\n",
    "import torch.nn.functional as F\n",
    "import matplotlib.pyplot as plt\n",
    "\n",
    "conformer = torchaudio.models.Conformer(\n",
    "    input_dim=80,\n",
    "    num_heads=4,\n",
    "    ffn_dim=128,\n",
    "    num_layers=4,\n",
    "    depthwise_conv_kernel_size=31,\n",
    ")\n",
    "\n",
    "lengths = torch.randint(1, 400, (10,))  # (batch,)\n",
    "\n",
    "input = torch.rand(10, int(lengths.max()), 80)  # (batch, num_frames, input_dim)\n",
    "print(input.shape)\n",
    "print(lengths)\n",
    "output = conformer(input, lengths)\n",
    "print(output[1])"
   ]
  },
  {
   "cell_type": "code",
   "execution_count": 11,
   "metadata": {},
   "outputs": [
    {
     "data": {
      "text/plain": [
       "tensor([128., 128., 128., 128., 128., 128., 128., 128., 128., 128., 128., 128.,\n",
       "        128., 128., 128., 128., 128., 128., 128., 128., 128., 128., 128., 128.,\n",
       "        128., 128., 128., 128., 128., 128., 128., 128.])"
      ]
     },
     "execution_count": 11,
     "metadata": {},
     "output_type": "execute_result"
    }
   ],
   "source": [
    "t = torch.empty(1, 3, 28, 28).fill_(32.)\n",
    "\n",
    "length = torch.empty(32).fill_(128)\n",
    "length"
   ]
  }
 ],
 "metadata": {
  "kernelspec": {
   "display_name": "ml",
   "language": "python",
   "name": "python3"
  },
  "language_info": {
   "codemirror_mode": {
    "name": "ipython",
    "version": 3
   },
   "file_extension": ".py",
   "mimetype": "text/x-python",
   "name": "python",
   "nbconvert_exporter": "python",
   "pygments_lexer": "ipython3",
   "version": "3.9.16"
  },
  "orig_nbformat": 4
 },
 "nbformat": 4,
 "nbformat_minor": 2
}
